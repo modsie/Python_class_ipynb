{
 "cells": [
  {
   "cell_type": "markdown",
   "metadata": {},
   "source": [
    "# Python for Data Analysis\n",
    "## Course Content:\n",
    "\n",
    "* Recap of the basics\n",
    "* Data wrangling with Panda and Numpy\n",
    "* Data visualization with Seaborn, Plotly and Matplotlib\n",
    "* Statistical analysis with Scipy, Statsmodel\n",
    "* Data modelling with Sklearn\n",
    "* Projects"
   ]
  },
  {
   "cell_type": "markdown",
   "metadata": {},
   "source": [
    "# Recap of the basics\n",
    "\n",
    "* while Loop\n",
    "* Comprehensive list\n",
    "* lambda function"
   ]
  },
  {
   "cell_type": "code",
   "execution_count": 3,
   "metadata": {},
   "outputs": [
    {
     "name": "stdout",
     "output_type": "stream",
     "text": [
      "Hello world\n"
     ]
    }
   ],
   "source": [
    "x = 'Hello world'\n",
    "print(x)"
   ]
  },
  {
   "cell_type": "code",
   "execution_count": 2,
   "metadata": {},
   "outputs": [
    {
     "name": "stdout",
     "output_type": "stream",
     "text": [
      "32\n"
     ]
    }
   ],
   "source": [
    "y = 32\n",
    "print(y)"
   ]
  },
  {
   "cell_type": "code",
   "execution_count": null,
   "metadata": {},
   "outputs": [],
   "source": [
    "# x = 5\n",
    "for eachNumber in range(5):\n",
    "    print(eachNumber)\n",
    "\n",
    "print('')\n",
    "x = 20\n",
    "while x > 10:\n",
    "    print(x)\n",
    "    x -= 1\n",
    "    "
   ]
  },
  {
   "cell_type": "code",
   "execution_count": 9,
   "metadata": {},
   "outputs": [
    {
     "data": {
      "text/plain": [
       "[0, 2, 4, 6, 8, 10, 12, 14, 16, 18]"
      ]
     },
     "execution_count": 9,
     "metadata": {},
     "output_type": "execute_result"
    }
   ],
   "source": [
    "evenNumber = []\n",
    "\n",
    "for eachNumber in range(20):\n",
    "    if eachNumber % 2 == 0:\n",
    "        evenNumber.append(eachNumber)\n",
    "    else:\n",
    "        pass\n",
    "evenNumber"
   ]
  },
  {
   "cell_type": "code",
   "execution_count": 11,
   "metadata": {},
   "outputs": [
    {
     "name": "stdout",
     "output_type": "stream",
     "text": [
      "[1, 3, 5, 7, 9, 11, 13, 15, 17, 19]\n"
     ]
    }
   ],
   "source": [
    "oddNumber = [eachNumber for eachNumber in range(20) if eachNumber % 2 != 0]\n",
    "\n",
    "print(oddNumber)"
   ]
  },
  {
   "cell_type": "code",
   "execution_count": 12,
   "metadata": {},
   "outputs": [
    {
     "data": {
      "text/plain": [
       "90"
      ]
     },
     "execution_count": 12,
     "metadata": {},
     "output_type": "execute_result"
    }
   ],
   "source": [
    "add = lambda x, y: x + y\n",
    "\n",
    "def addNumbers(x, y):\n",
    "    result = x + y\n",
    "    return result\n",
    "\n",
    "addNumbers(13, 44)\n",
    "\n",
    "add(89, 1)"
   ]
  },
  {
   "cell_type": "code",
   "execution_count": 18,
   "metadata": {},
   "outputs": [
    {
     "data": {
      "text/plain": [
       "93"
      ]
     },
     "execution_count": 18,
     "metadata": {},
     "output_type": "execute_result"
    }
   ],
   "source": [
    "add(93, 2)\n",
    "\n",
    "subtract(100, 7)"
   ]
  },
  {
   "cell_type": "code",
   "execution_count": 16,
   "metadata": {},
   "outputs": [],
   "source": [
    "subtract = lambda x, y: x - y"
   ]
  },
  {
   "cell_type": "code",
   "execution_count": null,
   "metadata": {},
   "outputs": [],
   "source": [
    "# Write a student report program that replies students based on their score\n",
    "\n",
    "# grade = 850 / score\n",
    "\n",
    "# Hello Bukola, your aggregate is 57%\n",
    "\n",
    "\n",
    "\n"
   ]
  },
  {
   "cell_type": "code",
   "execution_count": 1,
   "metadata": {},
   "outputs": [
    {
     "name": "stdout",
     "output_type": "stream",
     "text": [
      "Hello Bukola, your aggregate is 14.912280701754385\n"
     ]
    }
   ],
   "source": [
    "student_name = input('Enter student name: ')\n",
    "student_score = input('Enter student score: ')\n",
    "\n",
    "try:\n",
    "    grade = 850 / int(student_score)\n",
    "    print(f'Hello {student_name}, your aggregate is {grade}')\n",
    "except:\n",
    "    pass\n",
    "\n"
   ]
  },
  {
   "cell_type": "code",
   "execution_count": 2,
   "metadata": {},
   "outputs": [
    {
     "name": "stdout",
     "output_type": "stream",
     "text": [
      "Hello Bukola, your aggregate is 14.912280701754385\n",
      "Hello Ibrahim, your aggregate is 14.912280701754385\n",
      "Hello Matthias, your aggregate is 14.912280701754385\n",
      "Thank you for using our program\n"
     ]
    }
   ],
   "source": [
    "while True:\n",
    "    student_name = input('Enter student name or stop: ')\n",
    "\n",
    "    if student_name.upper() =='STOP':\n",
    "        print('Thank you for using our program')\n",
    "        break\n",
    "\n",
    "    else:\n",
    "        sudent_score = input('Enter student score')\n",
    "        try:\n",
    "            grade = 850 / int(student_score)\n",
    "            print(f'Hello {student_name}, your aggregate is {grade}')\n",
    "        except:\n",
    "            print('Error with score')\n",
    "\n"
   ]
  }
 ],
 "metadata": {
  "kernelspec": {
   "display_name": "Python 3",
   "language": "python",
   "name": "python3"
  },
  "language_info": {
   "codemirror_mode": {
    "name": "ipython",
    "version": 3
   },
   "file_extension": ".py",
   "mimetype": "text/x-python",
   "name": "python",
   "nbconvert_exporter": "python",
   "pygments_lexer": "ipython3",
   "version": "3.11.4"
  }
 },
 "nbformat": 4,
 "nbformat_minor": 2
}
